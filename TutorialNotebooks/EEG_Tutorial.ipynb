{
 "cells": [
  {
   "cell_type": "markdown",
   "metadata": {},
   "source": [
    "## Tutorial for getting started with EEG data\n",
    "\n",
    "### 1. Import EEG data into python\n",
    "\n",
    "This tutorial walks through some basic commands for analyzing EEG data with python & MNE"
   ]
  },
  {
   "cell_type": "code",
   "execution_count": null,
   "metadata": {},
   "outputs": [],
   "source": [
    "import mne "
   ]
  },
  {
   "cell_type": "code",
   "execution_count": null,
   "metadata": {},
   "outputs": [],
   "source": [
    "# Folder & files containing the data:\n",
    "data_path = '/Users/athina/Documents/Bremen2018/PracticalPrep/'\n",
    "data_file = '817_1_PDDys_ODDBALL_Clean_curated'\n",
    "\n",
    "filename = data_path + data_file\n",
    "\n",
    "# We read the EEG epochs:\n",
    "epochs = mne.read_epochs(filename + '.fif')"
   ]
  },
  {
   "cell_type": "markdown",
   "metadata": {},
   "source": [
    "The epoch files contain informatin about the recording, experimental conditions, channels, and finally the data. General infomation on the data can be accessed via the following command. Which fields do you recognize?"
   ]
  },
  {
   "cell_type": "code",
   "execution_count": null,
   "metadata": {},
   "outputs": [],
   "source": [
    "epochs.info['ch_names']"
   ]
  },
  {
   "cell_type": "markdown",
   "metadata": {},
   "source": [
    "The EEG data are now organized in epochs, and they can be accessed via:"
   ]
  },
  {
   "cell_type": "code",
   "execution_count": null,
   "metadata": {},
   "outputs": [],
   "source": [
    "# The data can be accessed via:\n",
    "epochs._data"
   ]
  },
  {
   "cell_type": "markdown",
   "metadata": {},
   "source": [
    "Data are stored as a 3-D matrix, containing: [number_epochs, number_electrodes, number of time-points]. You can double-check the number of each element by using the command .shape : "
   ]
  },
  {
   "cell_type": "code",
   "execution_count": null,
   "metadata": {},
   "outputs": [],
   "source": [
    "data = epochs._data\n",
    "print(\"Found \" + str(data.shape[0]) + \" epochs...\" )\n",
    "print(\"over \" + str(data.shape[1]) + \" electrodes...\" )\n",
    "print(\"for \" + str(data.shape[2]) + \" time-points\" )"
   ]
  },
  {
   "cell_type": "markdown",
   "metadata": {},
   "source": [
    "##### Exercise: Can you plot the first epoch of the first channel across time?\n",
    "\n",
    "###### Hint: if you're using matplotlib.pyplot remember %matplotlib tk"
   ]
  },
  {
   "cell_type": "code",
   "execution_count": null,
   "metadata": {},
   "outputs": [],
   "source": [
    "import matplotlib.pyplot as plt\n",
    "\n",
    "%matplotlib tk\n",
    "plt.plot(data[0,0,:])\n",
    "plt.show()"
   ]
  },
  {
   "cell_type": "markdown",
   "metadata": {},
   "source": [
    "Another useful feature is knowing which condition do our epochs belong to. You can retrieve this information by using 'epochs.events':"
   ]
  },
  {
   "cell_type": "code",
   "execution_count": null,
   "metadata": {},
   "outputs": [],
   "source": [
    "events = epochs.events[:,2]"
   ]
  },
  {
   "cell_type": "markdown",
   "metadata": {},
   "source": [
    "The first column on epochs.events is the time when an epoch occured in the recording, and the third the event code. The labels of each event code can be accessed with:"
   ]
  },
  {
   "cell_type": "code",
   "execution_count": null,
   "metadata": {},
   "outputs": [],
   "source": [
    "epochs.event_id"
   ]
  },
  {
   "cell_type": "markdown",
   "metadata": {},
   "source": [
    "##### Exercise: can you find how many epochs are there for each condition?"
   ]
  },
  {
   "cell_type": "code",
   "execution_count": null,
   "metadata": {},
   "outputs": [],
   "source": [
    "import numpy as np\n",
    "np.where(events == 202)[0][0]"
   ]
  },
  {
   "cell_type": "markdown",
   "metadata": {},
   "source": [
    "##### Exercise: Going back to the plots, can you now plot the first epoch of the Standard condition?\n"
   ]
  },
  {
   "cell_type": "code",
   "execution_count": null,
   "metadata": {},
   "outputs": [],
   "source": [
    "\n",
    "plt.plot(data[159,0,:])\n",
    "plt.show()"
   ]
  },
  {
   "cell_type": "markdown",
   "metadata": {},
   "source": [
    "### 2. Using MNE functions\n",
    "\n",
    "MNE has several build-in functions to give similar plots and to process the data. For example, the following cell selects all the epochs of the 'Standard' condition and plots their mean:"
   ]
  },
  {
   "cell_type": "code",
   "execution_count": null,
   "metadata": {},
   "outputs": [],
   "source": [
    "# Select all the standard epochs, in a dictionary-like way:\n",
    "St_epochs = epochs['Standard']\n",
    "\n",
    "# Average them:\n",
    "St_mean = St_epochs.average()\n",
    "%matplotlib tk\n",
    "# Plot their mean:\n",
    "St_mean.plot()"
   ]
  },
  {
   "cell_type": "markdown",
   "metadata": {},
   "source": [
    "###### Exercise: can you now plot the means of all epoch types?"
   ]
  },
  {
   "cell_type": "code",
   "execution_count": null,
   "metadata": {},
   "outputs": [],
   "source": [
    "All_epochs = epochs\n",
    "All_epochs_mean = All_epochs.average()\n",
    "All_epochs_mean.plot()"
   ]
  },
  {
   "cell_type": "markdown",
   "metadata": {},
   "source": [
    "### 3. Preprocessing\n",
    "\n",
    "There are several options for processing epoched data with MNE. You may have noticed that the data in the plots above were quite noisy. One way to remove noise is to filter the data and apply baseline correction:"
   ]
  },
  {
   "cell_type": "code",
   "execution_count": null,
   "metadata": {},
   "outputs": [],
   "source": [
    "# filter the epoched data:\n",
    "\n",
    "%matplotlib tk\n",
    "\n",
    "epochs.filter(l_freq = 0.1, h_freq = 20)\n",
    "epochs.average().plot()"
   ]
  },
  {
   "cell_type": "markdown",
   "metadata": {},
   "source": [
    "##### Exercise: try changing the filter settings. What happens?\n",
    "Keep in mind that when filtering the data with 'epochs.filter', the original data will be altered. You need to make a copy or reload the data to use different filter settings now"
   ]
  },
  {
   "cell_type": "markdown",
   "metadata": {},
   "source": [
    "Now you can apply baseline correction and replot the data. What happens?"
   ]
  },
  {
   "cell_type": "code",
   "execution_count": null,
   "metadata": {},
   "outputs": [],
   "source": []
  },
  {
   "cell_type": "markdown",
   "metadata": {},
   "source": [
    "Another way to visualize average EEG responses is as an image:"
   ]
  },
  {
   "cell_type": "code",
   "execution_count": null,
   "metadata": {},
   "outputs": [],
   "source": [
    "epochs.average().plot_image()"
   ]
  },
  {
   "cell_type": "markdown",
   "metadata": {},
   "source": [
    "Or, as scalp topographies. This can be done as bellow:"
   ]
  },
  {
   "cell_type": "code",
   "execution_count": null,
   "metadata": {},
   "outputs": [],
   "source": [
    "import numpy as np \n",
    "\n",
    "# define intervals for which we want to plot topographies:\n",
    "times = np.arange(0.05, 0.15, 0.01)\n",
    "\n",
    "epochs.average().plot_topomap(times, ch_type='eeg')"
   ]
  },
  {
   "cell_type": "markdown",
   "metadata": {},
   "source": [
    "Can you now plot more time-points?"
   ]
  },
  {
   "cell_type": "code",
   "execution_count": null,
   "metadata": {},
   "outputs": [],
   "source": [
    "times = np.arange(-0.1, 0.5, 0.1)\n",
    "\n",
    "epochs['Standard'].average().plot_topomap(times, ch_type='eeg')"
   ]
  },
  {
   "cell_type": "code",
   "execution_count": null,
   "metadata": {},
   "outputs": [],
   "source": [
    "times = np.arange(-0.1, 0.5, 0.1)\n",
    "\n",
    "epochs['Target'].average().plot_topomap(times, ch_type='eeg')"
   ]
  },
  {
   "cell_type": "markdown",
   "metadata": {},
   "source": [
    "Epoch data can be saved. All preprocessing steps that have been applied on the data are saved as well (filters/baseline correction)"
   ]
  },
  {
   "cell_type": "code",
   "execution_count": null,
   "metadata": {},
   "outputs": [],
   "source": [
    "epochs.save(filename+\"_preproc.fif\") "
   ]
  }
 ],
 "metadata": {
  "kernelspec": {
   "display_name": "Python 3",
   "language": "python",
   "name": "python3"
  },
  "language_info": {
   "codemirror_mode": {
    "name": "ipython",
    "version": 3
   },
   "file_extension": ".py",
   "mimetype": "text/x-python",
   "name": "python",
   "nbconvert_exporter": "python",
   "pygments_lexer": "ipython3",
   "version": "3.6.5"
  }
 },
 "nbformat": 4,
 "nbformat_minor": 2
}
