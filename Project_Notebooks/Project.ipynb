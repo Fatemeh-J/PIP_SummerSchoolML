{
 "cells": [
  {
   "cell_type": "markdown",
   "metadata": {},
   "source": [
    "# BEST CLASSIFIERS"
   ]
  },
  {
   "cell_type": "markdown",
   "metadata": {},
   "source": [
    "Load all people's responses into a list"
   ]
  },
  {
   "cell_type": "code",
   "execution_count": 1,
   "metadata": {
    "scrolled": true
   },
   "outputs": [
    {
     "name": "stdout",
     "output_type": "stream",
     "text": [
      "This filename (804_1_PDDys_ODDBALL_Clean_curated.fif) does not conform to MNE naming conventions. All epochs files should end with -epo.fif, -epo.fif.gz, _epo.fif or _epo.fif.gz\n",
      "Reading 804_1_PDDys_ODDBALL_Clean_curated.fif ...\n",
      "    Found the data of interest:\n",
      "        t =    -100.00 ...     500.00 ms\n",
      "        0 CTF compensation matrices available\n",
      "192 matching events found\n",
      "No baseline correction applied\n",
      "192 matching events found\n",
      "No baseline correction applied\n",
      "Not setting metadata\n",
      "0 projection items activated\n"
     ]
    },
    {
     "name": "stderr",
     "output_type": "stream",
     "text": [
      "<ipython-input-1-844e3f68764c>:10: RuntimeWarning: This filename (804_1_PDDys_ODDBALL_Clean_curated.fif) does not conform to MNE naming conventions. All epochs files should end with -epo.fif, -epo.fif.gz, _epo.fif or _epo.fif.gz\n",
      "  current_epochs = mne.read_epochs(filename + '.fif')\n"
     ]
    },
    {
     "name": "stdout",
     "output_type": "stream",
     "text": [
      "This filename (807_1_PDDys_ODDBALL_Clean_curated.fif) does not conform to MNE naming conventions. All epochs files should end with -epo.fif, -epo.fif.gz, _epo.fif or _epo.fif.gz\n",
      "Reading 807_1_PDDys_ODDBALL_Clean_curated.fif ...\n",
      "    Found the data of interest:\n",
      "        t =    -100.00 ...     500.00 ms\n",
      "        0 CTF compensation matrices available\n",
      "186 matching events found\n",
      "No baseline correction applied\n",
      "186 matching events found\n",
      "No baseline correction applied\n",
      "Not setting metadata\n",
      "0 projection items activated\n",
      "This filename (813_1_PDDys_ODDBALL_Clean_curated.fif) does not conform to MNE naming conventions. All epochs files should end with -epo.fif, -epo.fif.gz, _epo.fif or _epo.fif.gz\n",
      "Reading 813_1_PDDys_ODDBALL_Clean_curated.fif ...\n"
     ]
    },
    {
     "name": "stderr",
     "output_type": "stream",
     "text": [
      "<ipython-input-1-844e3f68764c>:10: RuntimeWarning: This filename (807_1_PDDys_ODDBALL_Clean_curated.fif) does not conform to MNE naming conventions. All epochs files should end with -epo.fif, -epo.fif.gz, _epo.fif or _epo.fif.gz\n",
      "  current_epochs = mne.read_epochs(filename + '.fif')\n",
      "<ipython-input-1-844e3f68764c>:10: RuntimeWarning: This filename (813_1_PDDys_ODDBALL_Clean_curated.fif) does not conform to MNE naming conventions. All epochs files should end with -epo.fif, -epo.fif.gz, _epo.fif or _epo.fif.gz\n",
      "  current_epochs = mne.read_epochs(filename + '.fif')\n"
     ]
    },
    {
     "name": "stdout",
     "output_type": "stream",
     "text": [
      "    Found the data of interest:\n",
      "        t =    -100.00 ...     500.00 ms\n",
      "        0 CTF compensation matrices available\n",
      "190 matching events found\n",
      "No baseline correction applied\n",
      "190 matching events found\n",
      "No baseline correction applied\n",
      "Not setting metadata\n",
      "0 projection items activated\n",
      "This filename (815_1_PDDys_ODDBALL_Clean_curated.fif) does not conform to MNE naming conventions. All epochs files should end with -epo.fif, -epo.fif.gz, _epo.fif or _epo.fif.gz\n",
      "Reading 815_1_PDDys_ODDBALL_Clean_curated.fif ...\n",
      "    Found the data of interest:\n",
      "        t =    -100.00 ...     500.00 ms\n",
      "        0 CTF compensation matrices available\n",
      "192 matching events found\n",
      "No baseline correction applied\n",
      "192 matching events found\n",
      "No baseline correction applied\n",
      "Not setting metadata\n",
      "0 projection items activated\n",
      "This filename (817_1_PDDys_ODDBALL_Clean_curated.fif) does not conform to MNE naming conventions. All epochs files should end with -epo.fif, -epo.fif.gz, _epo.fif or _epo.fif.gz\n",
      "Reading 817_1_PDDys_ODDBALL_Clean_curated.fif ...\n",
      "    Found the data of interest:\n",
      "        t =    -100.00 ...     500.00 ms\n",
      "        0 CTF compensation matrices available\n"
     ]
    },
    {
     "name": "stderr",
     "output_type": "stream",
     "text": [
      "<ipython-input-1-844e3f68764c>:10: RuntimeWarning: This filename (815_1_PDDys_ODDBALL_Clean_curated.fif) does not conform to MNE naming conventions. All epochs files should end with -epo.fif, -epo.fif.gz, _epo.fif or _epo.fif.gz\n",
      "  current_epochs = mne.read_epochs(filename + '.fif')\n",
      "<ipython-input-1-844e3f68764c>:10: RuntimeWarning: This filename (817_1_PDDys_ODDBALL_Clean_curated.fif) does not conform to MNE naming conventions. All epochs files should end with -epo.fif, -epo.fif.gz, _epo.fif or _epo.fif.gz\n",
      "  current_epochs = mne.read_epochs(filename + '.fif')\n"
     ]
    },
    {
     "name": "stdout",
     "output_type": "stream",
     "text": [
      "189 matching events found\n",
      "No baseline correction applied\n",
      "189 matching events found\n",
      "No baseline correction applied\n",
      "Not setting metadata\n",
      "0 projection items activated\n"
     ]
    }
   ],
   "source": [
    "import mne\n",
    "import numpy as np\n",
    "\n",
    "data_path = ''\n",
    "\n",
    "epochs=[]\n",
    "for i in [804, 807, 813, 815, 817]:\n",
    "    data_file = str(i)+'_1_PDDys_ODDBALL_Clean_curated'\n",
    "    filename = data_path + data_file\n",
    "    current_epochs = mne.read_epochs(filename + '.fif')\n",
    "\n",
    "    epochs.append(current_epochs['Standard', 'Novel'])\n"
   ]
  },
  {
   "cell_type": "markdown",
   "metadata": {},
   "source": [
    "## Functions to get Test Data and Train Data"
   ]
  },
  {
   "cell_type": "code",
   "execution_count": 2,
   "metadata": {},
   "outputs": [],
   "source": [
    "######################################################\n",
    "#####     Get ALL DATA and add it together ###########\n",
    "######################################################\n",
    "# \n",
    "# m = Person that enters the room\n",
    "#\n",
    "def get_test_data(m):\n",
    "    data_test= epochs[m]._data\n",
    "    labels_test= epochs[m].events[:,-1]\n",
    "    return data_test, labels_test\n",
    "    \n",
    "def get_train_data(m):\n",
    "    initialised=0\n",
    "    for i in range(0,5):\n",
    "        if i != m:\n",
    "            if initialised==0:\n",
    "                data_train=epochs[i]._data\n",
    "                labels_train=epochs[i].events[:,-1]\n",
    "                initialised=1\n",
    "            else: \n",
    "                data_train = np.concatenate((data_train, epochs[i]._data), axis=0)\n",
    "                labels_train = np.concatenate((labels_train, epochs[i].events[:,-1]), axis=0)\n",
    "    data_test, labels_test = get_test_data(m)\n",
    "    return data_train, labels_train, data_test, labels_test\n",
    "            \n",
    "\n",
    "\n"
   ]
  },
  {
   "cell_type": "code",
   "execution_count": 3,
   "metadata": {},
   "outputs": [],
   "source": [
    "## Test #\n",
    "#print(\n",
    "#    np.shape(data_train),\n",
    "#    np.shape(data_test),\n",
    "#    np.shape(labels_test),\n",
    "#    np.shape(labels_train),\n",
    "#    )"
   ]
  },
  {
   "cell_type": "markdown",
   "metadata": {},
   "source": [
    "# Import ML"
   ]
  },
  {
   "cell_type": "code",
   "execution_count": 4,
   "metadata": {},
   "outputs": [],
   "source": [
    "from sklearn.model_selection import GridSearchCV\n",
    "from mne.decoding import Vectorizer\n",
    "from sklearn.preprocessing import StandardScaler\n",
    "from sklearn.pipeline import make_pipeline\n",
    "from sklearn.model_selection import cross_val_score\n",
    "from sklearn import svm\n",
    "from sklearn.model_selection import train_test_split"
   ]
  },
  {
   "cell_type": "markdown",
   "metadata": {},
   "source": [
    "# Try different test person and different Frequency Filters"
   ]
  },
  {
   "cell_type": "code",
   "execution_count": 5,
   "metadata": {},
   "outputs": [],
   "source": [
    "def sweep_test_person(i, l_freq=0.1, h_freq=20):\n",
    "    for epoch in epochs:\n",
    "        epoch.filter(l_freq = l_freq, h_freq = h_freq)\n",
    "        #epoch.apply_baseline((None, 0))\n",
    "\n",
    "    print(\"TEST PERSON \", str(i))\n",
    "        \n",
    "    data_train, labels_train, data_test, labels_test = get_train_data(i)  \n",
    "    print(np.shape(data_train), np.shape(labels_train))\n",
    "    print(np.shape(data_test), np.shape(labels_test))\n",
    "    \n",
    "    data= np.concatenate((data_train, data_test), axis=0)\n",
    "    labels= np.concatenate((labels_train, labels_test), axis=0)\n",
    "    \n",
    "    clf_opt = make_pipeline(Vectorizer(), StandardScaler(), GridSearchCV(svm.SVC(), {'kernel':('poly', 'rbf')}))#, 'poly', 'linear', 'precomputed'), 'C':[0.1,0.5,1,2,3,5,8,10,20], 'degree':[2,3,4,5], 'random_state':[0,1,40,68,200]}\n",
    "    clf_opt.fit(data_train, labels_train)\n",
    "\n",
    "    print(\"Performance Trainset BestOption: \", clf_opt.steps[-1])\n",
    "\n",
    "    clf_opt.predict(data_train)\n",
    "    print(\"Score on Trainset: \", clf_opt.score(data_train, labels_train))\n",
    "\n",
    "    clf_opt.predict(data_test)\n",
    "    print(\"Score on Testset: \", clf_opt.score(data_test, labels_test))\n",
    "\n",
    "    #scores = cross_val_score(clf_opt, data, labels, cv=3)\n",
    "    #print(\"CrossVal Single Score: \", scores)\n",
    "    #print(\"Accuracy CrossVal: %0.2f (+/- %0.2f)\" % (scores.mean(), scores.std() * 2))\n",
    " \n",
    "    return clf_opt.score(data_test, labels_test) #,scores\n",
    "\n"
   ]
  },
  {
   "cell_type": "markdown",
   "metadata": {},
   "source": [
    "# RUN Frequency Sweep and SELECT Frequency"
   ]
  },
  {
   "cell_type": "code",
   "execution_count": 6,
   "metadata": {
    "scrolled": false
   },
   "outputs": [
    {
     "name": "stdout",
     "output_type": "stream",
     "text": [
      "This filename (804_1_PDDys_ODDBALL_Clean_curated.fif) does not conform to MNE naming conventions. All epochs files should end with -epo.fif, -epo.fif.gz, _epo.fif or _epo.fif.gz\n",
      "Reading 804_1_PDDys_ODDBALL_Clean_curated.fif ...\n",
      "    Found the data of interest:\n",
      "        t =    -100.00 ...     500.00 ms\n",
      "        0 CTF compensation matrices available\n",
      "192 matching events found\n",
      "No baseline correction applied\n",
      "192 matching events found\n",
      "No baseline correction applied\n",
      "Not setting metadata\n",
      "0 projection items activated\n",
      "This filename (807_1_PDDys_ODDBALL_Clean_curated.fif) does not conform to MNE naming conventions. All epochs files should end with -epo.fif, -epo.fif.gz, _epo.fif or _epo.fif.gz\n",
      "Reading 807_1_PDDys_ODDBALL_Clean_curated.fif ...\n",
      "    Found the data of interest:\n",
      "        t =    -100.00 ...     500.00 ms\n",
      "        0 CTF compensation matrices available\n"
     ]
    },
    {
     "name": "stderr",
     "output_type": "stream",
     "text": [
      "<ipython-input-6-cf8f8bd13f03>:12: RuntimeWarning: This filename (804_1_PDDys_ODDBALL_Clean_curated.fif) does not conform to MNE naming conventions. All epochs files should end with -epo.fif, -epo.fif.gz, _epo.fif or _epo.fif.gz\n",
      "  current_epochs = mne.read_epochs(filename + '.fif')\n",
      "<ipython-input-6-cf8f8bd13f03>:12: RuntimeWarning: This filename (807_1_PDDys_ODDBALL_Clean_curated.fif) does not conform to MNE naming conventions. All epochs files should end with -epo.fif, -epo.fif.gz, _epo.fif or _epo.fif.gz\n",
      "  current_epochs = mne.read_epochs(filename + '.fif')\n"
     ]
    },
    {
     "name": "stdout",
     "output_type": "stream",
     "text": [
      "186 matching events found\n",
      "No baseline correction applied\n",
      "186 matching events found\n",
      "No baseline correction applied\n",
      "Not setting metadata\n",
      "0 projection items activated\n",
      "This filename (813_1_PDDys_ODDBALL_Clean_curated.fif) does not conform to MNE naming conventions. All epochs files should end with -epo.fif, -epo.fif.gz, _epo.fif or _epo.fif.gz\n",
      "Reading 813_1_PDDys_ODDBALL_Clean_curated.fif ...\n",
      "    Found the data of interest:\n",
      "        t =    -100.00 ...     500.00 ms\n",
      "        0 CTF compensation matrices available\n",
      "190 matching events found\n",
      "No baseline correction applied\n",
      "190 matching events found\n",
      "No baseline correction applied\n",
      "Not setting metadata\n",
      "0 projection items activated\n",
      "This filename (815_1_PDDys_ODDBALL_Clean_curated.fif) does not conform to MNE naming conventions. All epochs files should end with -epo.fif, -epo.fif.gz, _epo.fif or _epo.fif.gz\n",
      "Reading 815_1_PDDys_ODDBALL_Clean_curated.fif ...\n",
      "    Found the data of interest:\n",
      "        t =    -100.00 ...     500.00 ms\n",
      "        0 CTF compensation matrices available\n"
     ]
    },
    {
     "name": "stderr",
     "output_type": "stream",
     "text": [
      "<ipython-input-6-cf8f8bd13f03>:12: RuntimeWarning: This filename (813_1_PDDys_ODDBALL_Clean_curated.fif) does not conform to MNE naming conventions. All epochs files should end with -epo.fif, -epo.fif.gz, _epo.fif or _epo.fif.gz\n",
      "  current_epochs = mne.read_epochs(filename + '.fif')\n",
      "<ipython-input-6-cf8f8bd13f03>:12: RuntimeWarning: This filename (815_1_PDDys_ODDBALL_Clean_curated.fif) does not conform to MNE naming conventions. All epochs files should end with -epo.fif, -epo.fif.gz, _epo.fif or _epo.fif.gz\n",
      "  current_epochs = mne.read_epochs(filename + '.fif')\n"
     ]
    },
    {
     "name": "stdout",
     "output_type": "stream",
     "text": [
      "192 matching events found\n",
      "No baseline correction applied\n",
      "192 matching events found\n",
      "No baseline correction applied\n",
      "Not setting metadata\n",
      "0 projection items activated\n",
      "This filename (817_1_PDDys_ODDBALL_Clean_curated.fif) does not conform to MNE naming conventions. All epochs files should end with -epo.fif, -epo.fif.gz, _epo.fif or _epo.fif.gz\n",
      "Reading 817_1_PDDys_ODDBALL_Clean_curated.fif ...\n",
      "    Found the data of interest:\n",
      "        t =    -100.00 ...     500.00 ms\n",
      "        0 CTF compensation matrices available\n",
      "189 matching events found\n",
      "No baseline correction applied\n",
      "189 matching events found\n",
      "No baseline correction applied\n",
      "Not setting metadata\n",
      "0 projection items activated\n",
      "0.1 20\n",
      "Setting up band-pass filter from 0.1 - 20 Hz\n",
      "l_trans_bandwidth chosen to be 0.1 Hz\n",
      "h_trans_bandwidth chosen to be 5.0 Hz\n",
      "Filter length of 16501 samples (33.002 sec) selected\n",
      "filter_length (16501) is longer than the signal (301), distortion is likely. Reduce filter length or filter a longer signal.\n"
     ]
    },
    {
     "name": "stderr",
     "output_type": "stream",
     "text": [
      "<ipython-input-6-cf8f8bd13f03>:12: RuntimeWarning: This filename (817_1_PDDys_ODDBALL_Clean_curated.fif) does not conform to MNE naming conventions. All epochs files should end with -epo.fif, -epo.fif.gz, _epo.fif or _epo.fif.gz\n",
      "  current_epochs = mne.read_epochs(filename + '.fif')\n",
      "<ipython-input-5-cbb95587c355>:3: RuntimeWarning: filter_length (16501) is longer than the signal (301), distortion is likely. Reduce filter length or filter a longer signal.\n",
      "  epoch.filter(l_freq = l_freq, h_freq = h_freq)\n"
     ]
    },
    {
     "name": "stdout",
     "output_type": "stream",
     "text": [
      "Setting up band-pass filter from 0.1 - 20 Hz\n",
      "l_trans_bandwidth chosen to be 0.1 Hz\n",
      "h_trans_bandwidth chosen to be 5.0 Hz\n",
      "Filter length of 16501 samples (33.002 sec) selected\n",
      "filter_length (16501) is longer than the signal (301), distortion is likely. Reduce filter length or filter a longer signal.\n"
     ]
    },
    {
     "name": "stderr",
     "output_type": "stream",
     "text": [
      "<ipython-input-5-cbb95587c355>:3: RuntimeWarning: filter_length (16501) is longer than the signal (301), distortion is likely. Reduce filter length or filter a longer signal.\n",
      "  epoch.filter(l_freq = l_freq, h_freq = h_freq)\n"
     ]
    },
    {
     "name": "stdout",
     "output_type": "stream",
     "text": [
      "Setting up band-pass filter from 0.1 - 20 Hz\n",
      "l_trans_bandwidth chosen to be 0.1 Hz\n",
      "h_trans_bandwidth chosen to be 5.0 Hz\n",
      "Filter length of 16501 samples (33.002 sec) selected\n",
      "filter_length (16501) is longer than the signal (301), distortion is likely. Reduce filter length or filter a longer signal.\n"
     ]
    },
    {
     "name": "stderr",
     "output_type": "stream",
     "text": [
      "<ipython-input-5-cbb95587c355>:3: RuntimeWarning: filter_length (16501) is longer than the signal (301), distortion is likely. Reduce filter length or filter a longer signal.\n",
      "  epoch.filter(l_freq = l_freq, h_freq = h_freq)\n"
     ]
    },
    {
     "name": "stdout",
     "output_type": "stream",
     "text": [
      "Setting up band-pass filter from 0.1 - 20 Hz\n",
      "l_trans_bandwidth chosen to be 0.1 Hz\n",
      "h_trans_bandwidth chosen to be 5.0 Hz\n",
      "Filter length of 16501 samples (33.002 sec) selected\n",
      "filter_length (16501) is longer than the signal (301), distortion is likely. Reduce filter length or filter a longer signal.\n"
     ]
    },
    {
     "name": "stderr",
     "output_type": "stream",
     "text": [
      "<ipython-input-5-cbb95587c355>:3: RuntimeWarning: filter_length (16501) is longer than the signal (301), distortion is likely. Reduce filter length or filter a longer signal.\n",
      "  epoch.filter(l_freq = l_freq, h_freq = h_freq)\n"
     ]
    },
    {
     "name": "stdout",
     "output_type": "stream",
     "text": [
      "Setting up band-pass filter from 0.1 - 20 Hz\n",
      "l_trans_bandwidth chosen to be 0.1 Hz\n",
      "h_trans_bandwidth chosen to be 5.0 Hz\n",
      "Filter length of 16501 samples (33.002 sec) selected\n",
      "filter_length (16501) is longer than the signal (301), distortion is likely. Reduce filter length or filter a longer signal.\n"
     ]
    },
    {
     "name": "stderr",
     "output_type": "stream",
     "text": [
      "<ipython-input-5-cbb95587c355>:3: RuntimeWarning: filter_length (16501) is longer than the signal (301), distortion is likely. Reduce filter length or filter a longer signal.\n",
      "  epoch.filter(l_freq = l_freq, h_freq = h_freq)\n"
     ]
    },
    {
     "name": "stdout",
     "output_type": "stream",
     "text": [
      "TEST PERSON  0\n",
      "(640, 60, 301) (640,)\n",
      "(162, 60, 301) (162,)\n",
      "Performance Trainset BestOption:  ('gridsearchcv', GridSearchCV(cv=None, error_score='raise',\n",
      "       estimator=SVC(C=1.0, cache_size=200, class_weight=None, coef0=0.0,\n",
      "  decision_function_shape='ovr', degree=3, gamma='auto', kernel='rbf',\n",
      "  max_iter=-1, probability=False, random_state=None, shrinking=True,\n",
      "  tol=0.001, verbose=False),\n",
      "       fit_params=None, iid=True, n_jobs=1,\n",
      "       param_grid={'kernel': ('poly', 'rbf')}, pre_dispatch='2*n_jobs',\n",
      "       refit=True, return_train_score='warn', scoring=None, verbose=0))\n",
      "Score on Trainset:  0.9375\n",
      "Score on Testset:  0.8333333333333334\n",
      "This filename (804_1_PDDys_ODDBALL_Clean_curated.fif) does not conform to MNE naming conventions. All epochs files should end with -epo.fif, -epo.fif.gz, _epo.fif or _epo.fif.gz\n",
      "Reading 804_1_PDDys_ODDBALL_Clean_curated.fif ...\n",
      "    Found the data of interest:\n",
      "        t =    -100.00 ...     500.00 ms\n",
      "        0 CTF compensation matrices available\n",
      "192 matching events found\n",
      "No baseline correction applied\n",
      "192 matching events found\n",
      "No baseline correction applied\n",
      "Not setting metadata\n",
      "0 projection items activated\n",
      "This filename (807_1_PDDys_ODDBALL_Clean_curated.fif) does not conform to MNE naming conventions. All epochs files should end with -epo.fif, -epo.fif.gz, _epo.fif or _epo.fif.gz\n",
      "Reading 807_1_PDDys_ODDBALL_Clean_curated.fif ...\n",
      "    Found the data of interest:\n",
      "        t =    -100.00 ...     500.00 ms\n",
      "        0 CTF compensation matrices available\n"
     ]
    },
    {
     "name": "stderr",
     "output_type": "stream",
     "text": [
      "<ipython-input-6-cf8f8bd13f03>:12: RuntimeWarning: This filename (804_1_PDDys_ODDBALL_Clean_curated.fif) does not conform to MNE naming conventions. All epochs files should end with -epo.fif, -epo.fif.gz, _epo.fif or _epo.fif.gz\n",
      "  current_epochs = mne.read_epochs(filename + '.fif')\n",
      "<ipython-input-6-cf8f8bd13f03>:12: RuntimeWarning: This filename (807_1_PDDys_ODDBALL_Clean_curated.fif) does not conform to MNE naming conventions. All epochs files should end with -epo.fif, -epo.fif.gz, _epo.fif or _epo.fif.gz\n",
      "  current_epochs = mne.read_epochs(filename + '.fif')\n"
     ]
    },
    {
     "name": "stdout",
     "output_type": "stream",
     "text": [
      "186 matching events found\n",
      "No baseline correction applied\n",
      "186 matching events found\n",
      "No baseline correction applied\n",
      "Not setting metadata\n",
      "0 projection items activated\n",
      "This filename (813_1_PDDys_ODDBALL_Clean_curated.fif) does not conform to MNE naming conventions. All epochs files should end with -epo.fif, -epo.fif.gz, _epo.fif or _epo.fif.gz\n",
      "Reading 813_1_PDDys_ODDBALL_Clean_curated.fif ...\n",
      "    Found the data of interest:\n",
      "        t =    -100.00 ...     500.00 ms\n",
      "        0 CTF compensation matrices available\n",
      "190 matching events found\n",
      "No baseline correction applied\n",
      "190 matching events found\n",
      "No baseline correction applied\n",
      "Not setting metadata\n",
      "0 projection items activated\n",
      "This filename (815_1_PDDys_ODDBALL_Clean_curated.fif) does not conform to MNE naming conventions. All epochs files should end with -epo.fif, -epo.fif.gz, _epo.fif or _epo.fif.gz\n",
      "Reading 815_1_PDDys_ODDBALL_Clean_curated.fif ...\n",
      "    Found the data of interest:\n",
      "        t =    -100.00 ...     500.00 ms\n",
      "        0 CTF compensation matrices available\n"
     ]
    },
    {
     "name": "stderr",
     "output_type": "stream",
     "text": [
      "<ipython-input-6-cf8f8bd13f03>:12: RuntimeWarning: This filename (813_1_PDDys_ODDBALL_Clean_curated.fif) does not conform to MNE naming conventions. All epochs files should end with -epo.fif, -epo.fif.gz, _epo.fif or _epo.fif.gz\n",
      "  current_epochs = mne.read_epochs(filename + '.fif')\n",
      "<ipython-input-6-cf8f8bd13f03>:12: RuntimeWarning: This filename (815_1_PDDys_ODDBALL_Clean_curated.fif) does not conform to MNE naming conventions. All epochs files should end with -epo.fif, -epo.fif.gz, _epo.fif or _epo.fif.gz\n",
      "  current_epochs = mne.read_epochs(filename + '.fif')\n"
     ]
    },
    {
     "name": "stdout",
     "output_type": "stream",
     "text": [
      "192 matching events found\n",
      "No baseline correction applied\n",
      "192 matching events found\n",
      "No baseline correction applied\n",
      "Not setting metadata\n",
      "0 projection items activated\n",
      "This filename (817_1_PDDys_ODDBALL_Clean_curated.fif) does not conform to MNE naming conventions. All epochs files should end with -epo.fif, -epo.fif.gz, _epo.fif or _epo.fif.gz\n",
      "Reading 817_1_PDDys_ODDBALL_Clean_curated.fif ...\n",
      "    Found the data of interest:\n",
      "        t =    -100.00 ...     500.00 ms\n",
      "        0 CTF compensation matrices available\n",
      "189 matching events found\n",
      "No baseline correction applied\n",
      "189 matching events found\n",
      "No baseline correction applied\n",
      "Not setting metadata\n",
      "0 projection items activated\n",
      "20 40\n",
      "Setting up band-pass filter from 20 - 40 Hz\n",
      "l_trans_bandwidth chosen to be 5.0 Hz\n",
      "h_trans_bandwidth chosen to be 10.0 Hz\n",
      "Filter length of 331 samples (0.662 sec) selected\n"
     ]
    },
    {
     "name": "stderr",
     "output_type": "stream",
     "text": [
      "<ipython-input-6-cf8f8bd13f03>:12: RuntimeWarning: This filename (817_1_PDDys_ODDBALL_Clean_curated.fif) does not conform to MNE naming conventions. All epochs files should end with -epo.fif, -epo.fif.gz, _epo.fif or _epo.fif.gz\n",
      "  current_epochs = mne.read_epochs(filename + '.fif')\n"
     ]
    },
    {
     "name": "stdout",
     "output_type": "stream",
     "text": [
      "filter_length (331) is longer than the signal (301), distortion is likely. Reduce filter length or filter a longer signal.\n"
     ]
    },
    {
     "name": "stderr",
     "output_type": "stream",
     "text": [
      "<ipython-input-5-cbb95587c355>:3: RuntimeWarning: filter_length (331) is longer than the signal (301), distortion is likely. Reduce filter length or filter a longer signal.\n",
      "  epoch.filter(l_freq = l_freq, h_freq = h_freq)\n"
     ]
    },
    {
     "name": "stdout",
     "output_type": "stream",
     "text": [
      "Setting up band-pass filter from 20 - 40 Hz\n",
      "l_trans_bandwidth chosen to be 5.0 Hz\n",
      "h_trans_bandwidth chosen to be 10.0 Hz\n",
      "Filter length of 331 samples (0.662 sec) selected\n",
      "filter_length (331) is longer than the signal (301), distortion is likely. Reduce filter length or filter a longer signal.\n"
     ]
    },
    {
     "name": "stderr",
     "output_type": "stream",
     "text": [
      "<ipython-input-5-cbb95587c355>:3: RuntimeWarning: filter_length (331) is longer than the signal (301), distortion is likely. Reduce filter length or filter a longer signal.\n",
      "  epoch.filter(l_freq = l_freq, h_freq = h_freq)\n"
     ]
    },
    {
     "name": "stdout",
     "output_type": "stream",
     "text": [
      "Setting up band-pass filter from 20 - 40 Hz\n",
      "l_trans_bandwidth chosen to be 5.0 Hz\n",
      "h_trans_bandwidth chosen to be 10.0 Hz\n",
      "Filter length of 331 samples (0.662 sec) selected\n",
      "filter_length (331) is longer than the signal (301), distortion is likely. Reduce filter length or filter a longer signal.\n"
     ]
    },
    {
     "name": "stderr",
     "output_type": "stream",
     "text": [
      "<ipython-input-5-cbb95587c355>:3: RuntimeWarning: filter_length (331) is longer than the signal (301), distortion is likely. Reduce filter length or filter a longer signal.\n",
      "  epoch.filter(l_freq = l_freq, h_freq = h_freq)\n"
     ]
    },
    {
     "name": "stdout",
     "output_type": "stream",
     "text": [
      "Setting up band-pass filter from 20 - 40 Hz\n",
      "l_trans_bandwidth chosen to be 5.0 Hz\n",
      "h_trans_bandwidth chosen to be 10.0 Hz\n",
      "Filter length of 331 samples (0.662 sec) selected\n",
      "filter_length (331) is longer than the signal (301), distortion is likely. Reduce filter length or filter a longer signal.\n"
     ]
    },
    {
     "name": "stderr",
     "output_type": "stream",
     "text": [
      "<ipython-input-5-cbb95587c355>:3: RuntimeWarning: filter_length (331) is longer than the signal (301), distortion is likely. Reduce filter length or filter a longer signal.\n",
      "  epoch.filter(l_freq = l_freq, h_freq = h_freq)\n"
     ]
    },
    {
     "name": "stdout",
     "output_type": "stream",
     "text": [
      "Setting up band-pass filter from 20 - 40 Hz\n",
      "l_trans_bandwidth chosen to be 5.0 Hz\n",
      "h_trans_bandwidth chosen to be 10.0 Hz\n",
      "Filter length of 331 samples (0.662 sec) selected\n",
      "filter_length (331) is longer than the signal (301), distortion is likely. Reduce filter length or filter a longer signal.\n"
     ]
    },
    {
     "name": "stderr",
     "output_type": "stream",
     "text": [
      "<ipython-input-5-cbb95587c355>:3: RuntimeWarning: filter_length (331) is longer than the signal (301), distortion is likely. Reduce filter length or filter a longer signal.\n",
      "  epoch.filter(l_freq = l_freq, h_freq = h_freq)\n"
     ]
    },
    {
     "name": "stdout",
     "output_type": "stream",
     "text": [
      "TEST PERSON  0\n",
      "(640, 60, 301) (640,)\n",
      "(162, 60, 301) (162,)\n",
      "Performance Trainset BestOption:  ('gridsearchcv', GridSearchCV(cv=None, error_score='raise',\n",
      "       estimator=SVC(C=1.0, cache_size=200, class_weight=None, coef0=0.0,\n",
      "  decision_function_shape='ovr', degree=3, gamma='auto', kernel='rbf',\n",
      "  max_iter=-1, probability=False, random_state=None, shrinking=True,\n",
      "  tol=0.001, verbose=False),\n",
      "       fit_params=None, iid=True, n_jobs=1,\n",
      "       param_grid={'kernel': ('poly', 'rbf')}, pre_dispatch='2*n_jobs',\n",
      "       refit=True, return_train_score='warn', scoring=None, verbose=0))\n",
      "Score on Trainset:  0.8984375\n",
      "Score on Testset:  0.8209876543209876\n",
      "This filename (804_1_PDDys_ODDBALL_Clean_curated.fif) does not conform to MNE naming conventions. All epochs files should end with -epo.fif, -epo.fif.gz, _epo.fif or _epo.fif.gz\n",
      "Reading 804_1_PDDys_ODDBALL_Clean_curated.fif ...\n",
      "    Found the data of interest:\n",
      "        t =    -100.00 ...     500.00 ms\n",
      "        0 CTF compensation matrices available\n",
      "192 matching events found\n",
      "No baseline correction applied\n",
      "192 matching events found\n",
      "No baseline correction applied\n",
      "Not setting metadata\n",
      "0 projection items activated\n",
      "This filename (807_1_PDDys_ODDBALL_Clean_curated.fif) does not conform to MNE naming conventions. All epochs files should end with -epo.fif, -epo.fif.gz, _epo.fif or _epo.fif.gz\n",
      "Reading 807_1_PDDys_ODDBALL_Clean_curated.fif ...\n"
     ]
    },
    {
     "name": "stderr",
     "output_type": "stream",
     "text": [
      "<ipython-input-6-cf8f8bd13f03>:12: RuntimeWarning: This filename (804_1_PDDys_ODDBALL_Clean_curated.fif) does not conform to MNE naming conventions. All epochs files should end with -epo.fif, -epo.fif.gz, _epo.fif or _epo.fif.gz\n",
      "  current_epochs = mne.read_epochs(filename + '.fif')\n",
      "<ipython-input-6-cf8f8bd13f03>:12: RuntimeWarning: This filename (807_1_PDDys_ODDBALL_Clean_curated.fif) does not conform to MNE naming conventions. All epochs files should end with -epo.fif, -epo.fif.gz, _epo.fif or _epo.fif.gz\n",
      "  current_epochs = mne.read_epochs(filename + '.fif')\n"
     ]
    },
    {
     "name": "stdout",
     "output_type": "stream",
     "text": [
      "    Found the data of interest:\n",
      "        t =    -100.00 ...     500.00 ms\n",
      "        0 CTF compensation matrices available\n",
      "186 matching events found\n",
      "No baseline correction applied\n",
      "186 matching events found\n",
      "No baseline correction applied\n",
      "Not setting metadata\n",
      "0 projection items activated\n",
      "This filename (813_1_PDDys_ODDBALL_Clean_curated.fif) does not conform to MNE naming conventions. All epochs files should end with -epo.fif, -epo.fif.gz, _epo.fif or _epo.fif.gz\n",
      "Reading 813_1_PDDys_ODDBALL_Clean_curated.fif ...\n",
      "    Found the data of interest:\n",
      "        t =    -100.00 ...     500.00 ms\n",
      "        0 CTF compensation matrices available\n",
      "190 matching events found\n",
      "No baseline correction applied\n",
      "190 matching events found\n",
      "No baseline correction applied\n",
      "Not setting metadata\n",
      "0 projection items activated\n"
     ]
    },
    {
     "name": "stderr",
     "output_type": "stream",
     "text": [
      "<ipython-input-6-cf8f8bd13f03>:12: RuntimeWarning: This filename (813_1_PDDys_ODDBALL_Clean_curated.fif) does not conform to MNE naming conventions. All epochs files should end with -epo.fif, -epo.fif.gz, _epo.fif or _epo.fif.gz\n",
      "  current_epochs = mne.read_epochs(filename + '.fif')\n"
     ]
    },
    {
     "name": "stdout",
     "output_type": "stream",
     "text": [
      "This filename (815_1_PDDys_ODDBALL_Clean_curated.fif) does not conform to MNE naming conventions. All epochs files should end with -epo.fif, -epo.fif.gz, _epo.fif or _epo.fif.gz\n",
      "Reading 815_1_PDDys_ODDBALL_Clean_curated.fif ...\n",
      "    Found the data of interest:\n",
      "        t =    -100.00 ...     500.00 ms\n",
      "        0 CTF compensation matrices available\n",
      "192 matching events found\n",
      "No baseline correction applied\n",
      "192 matching events found\n",
      "No baseline correction applied\n",
      "Not setting metadata\n",
      "0 projection items activated\n",
      "This filename (817_1_PDDys_ODDBALL_Clean_curated.fif) does not conform to MNE naming conventions. All epochs files should end with -epo.fif, -epo.fif.gz, _epo.fif or _epo.fif.gz\n",
      "Reading 817_1_PDDys_ODDBALL_Clean_curated.fif ...\n",
      "    Found the data of interest:\n"
     ]
    },
    {
     "name": "stderr",
     "output_type": "stream",
     "text": [
      "<ipython-input-6-cf8f8bd13f03>:12: RuntimeWarning: This filename (815_1_PDDys_ODDBALL_Clean_curated.fif) does not conform to MNE naming conventions. All epochs files should end with -epo.fif, -epo.fif.gz, _epo.fif or _epo.fif.gz\n",
      "  current_epochs = mne.read_epochs(filename + '.fif')\n",
      "<ipython-input-6-cf8f8bd13f03>:12: RuntimeWarning: This filename (817_1_PDDys_ODDBALL_Clean_curated.fif) does not conform to MNE naming conventions. All epochs files should end with -epo.fif, -epo.fif.gz, _epo.fif or _epo.fif.gz\n",
      "  current_epochs = mne.read_epochs(filename + '.fif')\n"
     ]
    },
    {
     "name": "stdout",
     "output_type": "stream",
     "text": [
      "        t =    -100.00 ...     500.00 ms\n",
      "        0 CTF compensation matrices available\n",
      "189 matching events found\n",
      "No baseline correction applied\n",
      "189 matching events found\n",
      "No baseline correction applied\n",
      "Not setting metadata\n",
      "0 projection items activated\n",
      "4 20\n",
      "Setting up band-pass filter from 4 - 20 Hz\n",
      "l_trans_bandwidth chosen to be 2.0 Hz\n",
      "h_trans_bandwidth chosen to be 5.0 Hz\n",
      "Filter length of 825 samples (1.650 sec) selected\n",
      "filter_length (825) is longer than the signal (301), distortion is likely. Reduce filter length or filter a longer signal.\n"
     ]
    },
    {
     "name": "stderr",
     "output_type": "stream",
     "text": [
      "<ipython-input-5-cbb95587c355>:3: RuntimeWarning: filter_length (825) is longer than the signal (301), distortion is likely. Reduce filter length or filter a longer signal.\n",
      "  epoch.filter(l_freq = l_freq, h_freq = h_freq)\n"
     ]
    },
    {
     "name": "stdout",
     "output_type": "stream",
     "text": [
      "Setting up band-pass filter from 4 - 20 Hz\n",
      "l_trans_bandwidth chosen to be 2.0 Hz\n",
      "h_trans_bandwidth chosen to be 5.0 Hz\n",
      "Filter length of 825 samples (1.650 sec) selected\n",
      "filter_length (825) is longer than the signal (301), distortion is likely. Reduce filter length or filter a longer signal.\n"
     ]
    },
    {
     "name": "stderr",
     "output_type": "stream",
     "text": [
      "<ipython-input-5-cbb95587c355>:3: RuntimeWarning: filter_length (825) is longer than the signal (301), distortion is likely. Reduce filter length or filter a longer signal.\n",
      "  epoch.filter(l_freq = l_freq, h_freq = h_freq)\n"
     ]
    },
    {
     "name": "stdout",
     "output_type": "stream",
     "text": [
      "Setting up band-pass filter from 4 - 20 Hz\n",
      "l_trans_bandwidth chosen to be 2.0 Hz\n",
      "h_trans_bandwidth chosen to be 5.0 Hz\n",
      "Filter length of 825 samples (1.650 sec) selected\n",
      "filter_length (825) is longer than the signal (301), distortion is likely. Reduce filter length or filter a longer signal.\n"
     ]
    },
    {
     "name": "stderr",
     "output_type": "stream",
     "text": [
      "<ipython-input-5-cbb95587c355>:3: RuntimeWarning: filter_length (825) is longer than the signal (301), distortion is likely. Reduce filter length or filter a longer signal.\n",
      "  epoch.filter(l_freq = l_freq, h_freq = h_freq)\n"
     ]
    },
    {
     "name": "stdout",
     "output_type": "stream",
     "text": [
      "Setting up band-pass filter from 4 - 20 Hz\n",
      "l_trans_bandwidth chosen to be 2.0 Hz\n",
      "h_trans_bandwidth chosen to be 5.0 Hz\n",
      "Filter length of 825 samples (1.650 sec) selected\n",
      "filter_length (825) is longer than the signal (301), distortion is likely. Reduce filter length or filter a longer signal.\n"
     ]
    },
    {
     "name": "stderr",
     "output_type": "stream",
     "text": [
      "<ipython-input-5-cbb95587c355>:3: RuntimeWarning: filter_length (825) is longer than the signal (301), distortion is likely. Reduce filter length or filter a longer signal.\n",
      "  epoch.filter(l_freq = l_freq, h_freq = h_freq)\n"
     ]
    },
    {
     "name": "stdout",
     "output_type": "stream",
     "text": [
      "Setting up band-pass filter from 4 - 20 Hz\n",
      "l_trans_bandwidth chosen to be 2.0 Hz\n",
      "h_trans_bandwidth chosen to be 5.0 Hz\n",
      "Filter length of 825 samples (1.650 sec) selected\n",
      "filter_length (825) is longer than the signal (301), distortion is likely. Reduce filter length or filter a longer signal.\n"
     ]
    },
    {
     "name": "stderr",
     "output_type": "stream",
     "text": [
      "<ipython-input-5-cbb95587c355>:3: RuntimeWarning: filter_length (825) is longer than the signal (301), distortion is likely. Reduce filter length or filter a longer signal.\n",
      "  epoch.filter(l_freq = l_freq, h_freq = h_freq)\n"
     ]
    },
    {
     "name": "stdout",
     "output_type": "stream",
     "text": [
      "TEST PERSON  0\n",
      "(640, 60, 301) (640,)\n",
      "(162, 60, 301) (162,)\n",
      "Performance Trainset BestOption:  ('gridsearchcv', GridSearchCV(cv=None, error_score='raise',\n",
      "       estimator=SVC(C=1.0, cache_size=200, class_weight=None, coef0=0.0,\n",
      "  decision_function_shape='ovr', degree=3, gamma='auto', kernel='rbf',\n",
      "  max_iter=-1, probability=False, random_state=None, shrinking=True,\n",
      "  tol=0.001, verbose=False),\n",
      "       fit_params=None, iid=True, n_jobs=1,\n",
      "       param_grid={'kernel': ('poly', 'rbf')}, pre_dispatch='2*n_jobs',\n",
      "       refit=True, return_train_score='warn', scoring=None, verbose=0))\n",
      "Score on Trainset:  0.875\n",
      "Score on Testset:  0.8209876543209876\n"
     ]
    }
   ],
   "source": [
    "##\n",
    "scores_freq=[]\n",
    "freq_settings=[[0.1, 20], [20,40], [4,20]]\n",
    "#freq_settings=[[10,20]]\n",
    "for l_freq, h_freq in freq_settings:\n",
    "    \n",
    "    \n",
    "    epochs=[]\n",
    "    for i in [804, 807, 813, 815, 817]:\n",
    "        data_file = str(i)+'_1_PDDys_ODDBALL_Clean_curated'\n",
    "        filename = data_path + data_file\n",
    "        current_epochs = mne.read_epochs(filename + '.fif')\n",
    "\n",
    "        epochs.append(current_epochs['Standard', 'Novel'])\n",
    "    \n",
    "    print(l_freq, h_freq)\n",
    "    score = sweep_test_person(0, l_freq=l_freq, h_freq=h_freq)\n",
    "    scores_freq.append(score)"
   ]
  },
  {
   "cell_type": "code",
   "execution_count": null,
   "metadata": {},
   "outputs": [],
   "source": []
  },
  {
   "cell_type": "markdown",
   "metadata": {},
   "source": [
    "## RESULTS FOR DIFFERNET FREQUENCY SETTINGS"
   ]
  },
  {
   "cell_type": "code",
   "execution_count": 7,
   "metadata": {},
   "outputs": [
    {
     "data": {
      "text/plain": [
       "[0.8333333333333334, 0.8209876543209876, 0.8209876543209876]"
      ]
     },
     "execution_count": 7,
     "metadata": {},
     "output_type": "execute_result"
    }
   ],
   "source": [
    "print( freq_settings, scores_freq)"
   ]
  },
  {
   "cell_type": "markdown",
   "metadata": {},
   "source": [
    "#Choose the best frequency filter by hand: "
   ]
  },
  {
   "cell_type": "code",
   "execution_count": 8,
   "metadata": {},
   "outputs": [],
   "source": [
    "good_l_freq = 0.1\n",
    "good_h_freq = 20"
   ]
  },
  {
   "cell_type": "markdown",
   "metadata": {},
   "source": [
    "# Try a different test Person"
   ]
  },
  {
   "cell_type": "code",
   "execution_count": 9,
   "metadata": {},
   "outputs": [
    {
     "name": "stdout",
     "output_type": "stream",
     "text": [
      "Setting up band-pass filter from 0.1 - 20 Hz\n",
      "l_trans_bandwidth chosen to be 0.1 Hz\n",
      "h_trans_bandwidth chosen to be 5.0 Hz\n",
      "Filter length of 16501 samples (33.002 sec) selected\n",
      "filter_length (16501) is longer than the signal (301), distortion is likely. Reduce filter length or filter a longer signal.\n"
     ]
    },
    {
     "name": "stderr",
     "output_type": "stream",
     "text": [
      "<ipython-input-5-cbb95587c355>:3: RuntimeWarning: filter_length (16501) is longer than the signal (301), distortion is likely. Reduce filter length or filter a longer signal.\n",
      "  epoch.filter(l_freq = l_freq, h_freq = h_freq)\n"
     ]
    },
    {
     "name": "stdout",
     "output_type": "stream",
     "text": [
      "Setting up band-pass filter from 0.1 - 20 Hz\n",
      "l_trans_bandwidth chosen to be 0.1 Hz\n",
      "h_trans_bandwidth chosen to be 5.0 Hz\n",
      "Filter length of 16501 samples (33.002 sec) selected\n",
      "filter_length (16501) is longer than the signal (301), distortion is likely. Reduce filter length or filter a longer signal.\n"
     ]
    },
    {
     "name": "stderr",
     "output_type": "stream",
     "text": [
      "<ipython-input-5-cbb95587c355>:3: RuntimeWarning: filter_length (16501) is longer than the signal (301), distortion is likely. Reduce filter length or filter a longer signal.\n",
      "  epoch.filter(l_freq = l_freq, h_freq = h_freq)\n"
     ]
    },
    {
     "name": "stdout",
     "output_type": "stream",
     "text": [
      "Setting up band-pass filter from 0.1 - 20 Hz\n",
      "l_trans_bandwidth chosen to be 0.1 Hz\n",
      "h_trans_bandwidth chosen to be 5.0 Hz\n",
      "Filter length of 16501 samples (33.002 sec) selected\n",
      "filter_length (16501) is longer than the signal (301), distortion is likely. Reduce filter length or filter a longer signal.\n"
     ]
    },
    {
     "name": "stderr",
     "output_type": "stream",
     "text": [
      "<ipython-input-5-cbb95587c355>:3: RuntimeWarning: filter_length (16501) is longer than the signal (301), distortion is likely. Reduce filter length or filter a longer signal.\n",
      "  epoch.filter(l_freq = l_freq, h_freq = h_freq)\n"
     ]
    },
    {
     "name": "stdout",
     "output_type": "stream",
     "text": [
      "Setting up band-pass filter from 0.1 - 20 Hz\n",
      "l_trans_bandwidth chosen to be 0.1 Hz\n",
      "h_trans_bandwidth chosen to be 5.0 Hz\n",
      "Filter length of 16501 samples (33.002 sec) selected\n",
      "filter_length (16501) is longer than the signal (301), distortion is likely. Reduce filter length or filter a longer signal.\n"
     ]
    },
    {
     "name": "stderr",
     "output_type": "stream",
     "text": [
      "<ipython-input-5-cbb95587c355>:3: RuntimeWarning: filter_length (16501) is longer than the signal (301), distortion is likely. Reduce filter length or filter a longer signal.\n",
      "  epoch.filter(l_freq = l_freq, h_freq = h_freq)\n"
     ]
    },
    {
     "name": "stdout",
     "output_type": "stream",
     "text": [
      "Setting up band-pass filter from 0.1 - 20 Hz\n",
      "l_trans_bandwidth chosen to be 0.1 Hz\n",
      "h_trans_bandwidth chosen to be 5.0 Hz\n",
      "Filter length of 16501 samples (33.002 sec) selected\n",
      "filter_length (16501) is longer than the signal (301), distortion is likely. Reduce filter length or filter a longer signal.\n"
     ]
    },
    {
     "name": "stderr",
     "output_type": "stream",
     "text": [
      "<ipython-input-5-cbb95587c355>:3: RuntimeWarning: filter_length (16501) is longer than the signal (301), distortion is likely. Reduce filter length or filter a longer signal.\n",
      "  epoch.filter(l_freq = l_freq, h_freq = h_freq)\n"
     ]
    },
    {
     "name": "stdout",
     "output_type": "stream",
     "text": [
      "TEST PERSON  0\n",
      "(640, 60, 301) (640,)\n",
      "(162, 60, 301) (162,)\n",
      "Performance Trainset BestOption:  ('gridsearchcv', GridSearchCV(cv=None, error_score='raise',\n",
      "       estimator=SVC(C=1.0, cache_size=200, class_weight=None, coef0=0.0,\n",
      "  decision_function_shape='ovr', degree=3, gamma='auto', kernel='rbf',\n",
      "  max_iter=-1, probability=False, random_state=None, shrinking=True,\n",
      "  tol=0.001, verbose=False),\n",
      "       fit_params=None, iid=True, n_jobs=1,\n",
      "       param_grid={'kernel': ('poly', 'rbf')}, pre_dispatch='2*n_jobs',\n",
      "       refit=True, return_train_score='warn', scoring=None, verbose=0))\n",
      "Score on Trainset:  0.875\n",
      "Score on Testset:  0.8209876543209876\n",
      "Setting up band-pass filter from 0.1 - 20 Hz\n",
      "l_trans_bandwidth chosen to be 0.1 Hz\n",
      "h_trans_bandwidth chosen to be 5.0 Hz\n",
      "Filter length of 16501 samples (33.002 sec) selected\n",
      "filter_length (16501) is longer than the signal (301), distortion is likely. Reduce filter length or filter a longer signal.\n"
     ]
    },
    {
     "name": "stderr",
     "output_type": "stream",
     "text": [
      "<ipython-input-5-cbb95587c355>:3: RuntimeWarning: filter_length (16501) is longer than the signal (301), distortion is likely. Reduce filter length or filter a longer signal.\n",
      "  epoch.filter(l_freq = l_freq, h_freq = h_freq)\n"
     ]
    },
    {
     "name": "stdout",
     "output_type": "stream",
     "text": [
      "Setting up band-pass filter from 0.1 - 20 Hz\n",
      "l_trans_bandwidth chosen to be 0.1 Hz\n",
      "h_trans_bandwidth chosen to be 5.0 Hz\n",
      "Filter length of 16501 samples (33.002 sec) selected\n",
      "filter_length (16501) is longer than the signal (301), distortion is likely. Reduce filter length or filter a longer signal.\n"
     ]
    },
    {
     "name": "stderr",
     "output_type": "stream",
     "text": [
      "<ipython-input-5-cbb95587c355>:3: RuntimeWarning: filter_length (16501) is longer than the signal (301), distortion is likely. Reduce filter length or filter a longer signal.\n",
      "  epoch.filter(l_freq = l_freq, h_freq = h_freq)\n"
     ]
    },
    {
     "name": "stdout",
     "output_type": "stream",
     "text": [
      "Setting up band-pass filter from 0.1 - 20 Hz\n",
      "l_trans_bandwidth chosen to be 0.1 Hz\n",
      "h_trans_bandwidth chosen to be 5.0 Hz\n",
      "Filter length of 16501 samples (33.002 sec) selected\n",
      "filter_length (16501) is longer than the signal (301), distortion is likely. Reduce filter length or filter a longer signal.\n"
     ]
    },
    {
     "name": "stderr",
     "output_type": "stream",
     "text": [
      "<ipython-input-5-cbb95587c355>:3: RuntimeWarning: filter_length (16501) is longer than the signal (301), distortion is likely. Reduce filter length or filter a longer signal.\n",
      "  epoch.filter(l_freq = l_freq, h_freq = h_freq)\n"
     ]
    },
    {
     "name": "stdout",
     "output_type": "stream",
     "text": [
      "Setting up band-pass filter from 0.1 - 20 Hz\n",
      "l_trans_bandwidth chosen to be 0.1 Hz\n",
      "h_trans_bandwidth chosen to be 5.0 Hz\n",
      "Filter length of 16501 samples (33.002 sec) selected\n",
      "filter_length (16501) is longer than the signal (301), distortion is likely. Reduce filter length or filter a longer signal.\n"
     ]
    },
    {
     "name": "stderr",
     "output_type": "stream",
     "text": [
      "<ipython-input-5-cbb95587c355>:3: RuntimeWarning: filter_length (16501) is longer than the signal (301), distortion is likely. Reduce filter length or filter a longer signal.\n",
      "  epoch.filter(l_freq = l_freq, h_freq = h_freq)\n"
     ]
    },
    {
     "name": "stdout",
     "output_type": "stream",
     "text": [
      "Setting up band-pass filter from 0.1 - 20 Hz\n",
      "l_trans_bandwidth chosen to be 0.1 Hz\n",
      "h_trans_bandwidth chosen to be 5.0 Hz\n",
      "Filter length of 16501 samples (33.002 sec) selected\n",
      "filter_length (16501) is longer than the signal (301), distortion is likely. Reduce filter length or filter a longer signal.\n"
     ]
    },
    {
     "name": "stderr",
     "output_type": "stream",
     "text": [
      "<ipython-input-5-cbb95587c355>:3: RuntimeWarning: filter_length (16501) is longer than the signal (301), distortion is likely. Reduce filter length or filter a longer signal.\n",
      "  epoch.filter(l_freq = l_freq, h_freq = h_freq)\n"
     ]
    },
    {
     "name": "stdout",
     "output_type": "stream",
     "text": [
      "TEST PERSON  1\n",
      "(645, 60, 301) (645,)\n",
      "(157, 60, 301) (157,)\n",
      "Performance Trainset BestOption:  ('gridsearchcv', GridSearchCV(cv=None, error_score='raise',\n",
      "       estimator=SVC(C=1.0, cache_size=200, class_weight=None, coef0=0.0,\n",
      "  decision_function_shape='ovr', degree=3, gamma='auto', kernel='rbf',\n",
      "  max_iter=-1, probability=False, random_state=None, shrinking=True,\n",
      "  tol=0.001, verbose=False),\n",
      "       fit_params=None, iid=True, n_jobs=1,\n",
      "       param_grid={'kernel': ('poly', 'rbf')}, pre_dispatch='2*n_jobs',\n",
      "       refit=True, return_train_score='warn', scoring=None, verbose=0))\n",
      "Score on Trainset:  0.8806201550387597\n",
      "Score on Testset:  0.8280254777070064\n",
      "Setting up band-pass filter from 0.1 - 20 Hz\n",
      "l_trans_bandwidth chosen to be 0.1 Hz\n",
      "h_trans_bandwidth chosen to be 5.0 Hz\n",
      "Filter length of 16501 samples (33.002 sec) selected\n",
      "filter_length (16501) is longer than the signal (301), distortion is likely. Reduce filter length or filter a longer signal.\n"
     ]
    },
    {
     "name": "stderr",
     "output_type": "stream",
     "text": [
      "<ipython-input-5-cbb95587c355>:3: RuntimeWarning: filter_length (16501) is longer than the signal (301), distortion is likely. Reduce filter length or filter a longer signal.\n",
      "  epoch.filter(l_freq = l_freq, h_freq = h_freq)\n"
     ]
    },
    {
     "name": "stdout",
     "output_type": "stream",
     "text": [
      "Setting up band-pass filter from 0.1 - 20 Hz\n",
      "l_trans_bandwidth chosen to be 0.1 Hz\n",
      "h_trans_bandwidth chosen to be 5.0 Hz\n",
      "Filter length of 16501 samples (33.002 sec) selected\n",
      "filter_length (16501) is longer than the signal (301), distortion is likely. Reduce filter length or filter a longer signal.\n"
     ]
    },
    {
     "name": "stderr",
     "output_type": "stream",
     "text": [
      "<ipython-input-5-cbb95587c355>:3: RuntimeWarning: filter_length (16501) is longer than the signal (301), distortion is likely. Reduce filter length or filter a longer signal.\n",
      "  epoch.filter(l_freq = l_freq, h_freq = h_freq)\n"
     ]
    },
    {
     "name": "stdout",
     "output_type": "stream",
     "text": [
      "Setting up band-pass filter from 0.1 - 20 Hz\n",
      "l_trans_bandwidth chosen to be 0.1 Hz\n",
      "h_trans_bandwidth chosen to be 5.0 Hz\n",
      "Filter length of 16501 samples (33.002 sec) selected\n",
      "filter_length (16501) is longer than the signal (301), distortion is likely. Reduce filter length or filter a longer signal.\n"
     ]
    },
    {
     "name": "stderr",
     "output_type": "stream",
     "text": [
      "<ipython-input-5-cbb95587c355>:3: RuntimeWarning: filter_length (16501) is longer than the signal (301), distortion is likely. Reduce filter length or filter a longer signal.\n",
      "  epoch.filter(l_freq = l_freq, h_freq = h_freq)\n"
     ]
    },
    {
     "name": "stdout",
     "output_type": "stream",
     "text": [
      "Setting up band-pass filter from 0.1 - 20 Hz\n",
      "l_trans_bandwidth chosen to be 0.1 Hz\n",
      "h_trans_bandwidth chosen to be 5.0 Hz\n",
      "Filter length of 16501 samples (33.002 sec) selected\n",
      "filter_length (16501) is longer than the signal (301), distortion is likely. Reduce filter length or filter a longer signal.\n"
     ]
    },
    {
     "name": "stderr",
     "output_type": "stream",
     "text": [
      "<ipython-input-5-cbb95587c355>:3: RuntimeWarning: filter_length (16501) is longer than the signal (301), distortion is likely. Reduce filter length or filter a longer signal.\n",
      "  epoch.filter(l_freq = l_freq, h_freq = h_freq)\n"
     ]
    },
    {
     "name": "stdout",
     "output_type": "stream",
     "text": [
      "Setting up band-pass filter from 0.1 - 20 Hz\n",
      "l_trans_bandwidth chosen to be 0.1 Hz\n",
      "h_trans_bandwidth chosen to be 5.0 Hz\n",
      "Filter length of 16501 samples (33.002 sec) selected\n",
      "filter_length (16501) is longer than the signal (301), distortion is likely. Reduce filter length or filter a longer signal.\n"
     ]
    },
    {
     "name": "stderr",
     "output_type": "stream",
     "text": [
      "<ipython-input-5-cbb95587c355>:3: RuntimeWarning: filter_length (16501) is longer than the signal (301), distortion is likely. Reduce filter length or filter a longer signal.\n",
      "  epoch.filter(l_freq = l_freq, h_freq = h_freq)\n"
     ]
    },
    {
     "name": "stdout",
     "output_type": "stream",
     "text": [
      "TEST PERSON  2\n",
      "(641, 60, 301) (641,)\n",
      "(161, 60, 301) (161,)\n",
      "Performance Trainset BestOption:  ('gridsearchcv', GridSearchCV(cv=None, error_score='raise',\n",
      "       estimator=SVC(C=1.0, cache_size=200, class_weight=None, coef0=0.0,\n",
      "  decision_function_shape='ovr', degree=3, gamma='auto', kernel='rbf',\n",
      "  max_iter=-1, probability=False, random_state=None, shrinking=True,\n",
      "  tol=0.001, verbose=False),\n",
      "       fit_params=None, iid=True, n_jobs=1,\n",
      "       param_grid={'kernel': ('poly', 'rbf')}, pre_dispatch='2*n_jobs',\n",
      "       refit=True, return_train_score='warn', scoring=None, verbose=0))\n",
      "Score on Trainset:  0.8814352574102964\n",
      "Score on Testset:  0.8260869565217391\n",
      "Setting up band-pass filter from 0.1 - 20 Hz\n",
      "l_trans_bandwidth chosen to be 0.1 Hz\n",
      "h_trans_bandwidth chosen to be 5.0 Hz\n",
      "Filter length of 16501 samples (33.002 sec) selected\n",
      "filter_length (16501) is longer than the signal (301), distortion is likely. Reduce filter length or filter a longer signal.\n"
     ]
    },
    {
     "name": "stderr",
     "output_type": "stream",
     "text": [
      "<ipython-input-5-cbb95587c355>:3: RuntimeWarning: filter_length (16501) is longer than the signal (301), distortion is likely. Reduce filter length or filter a longer signal.\n",
      "  epoch.filter(l_freq = l_freq, h_freq = h_freq)\n"
     ]
    },
    {
     "name": "stdout",
     "output_type": "stream",
     "text": [
      "Setting up band-pass filter from 0.1 - 20 Hz\n",
      "l_trans_bandwidth chosen to be 0.1 Hz\n",
      "h_trans_bandwidth chosen to be 5.0 Hz\n",
      "Filter length of 16501 samples (33.002 sec) selected\n",
      "filter_length (16501) is longer than the signal (301), distortion is likely. Reduce filter length or filter a longer signal.\n"
     ]
    },
    {
     "name": "stderr",
     "output_type": "stream",
     "text": [
      "<ipython-input-5-cbb95587c355>:3: RuntimeWarning: filter_length (16501) is longer than the signal (301), distortion is likely. Reduce filter length or filter a longer signal.\n",
      "  epoch.filter(l_freq = l_freq, h_freq = h_freq)\n"
     ]
    },
    {
     "name": "stdout",
     "output_type": "stream",
     "text": [
      "Setting up band-pass filter from 0.1 - 20 Hz\n",
      "l_trans_bandwidth chosen to be 0.1 Hz\n",
      "h_trans_bandwidth chosen to be 5.0 Hz\n",
      "Filter length of 16501 samples (33.002 sec) selected\n",
      "filter_length (16501) is longer than the signal (301), distortion is likely. Reduce filter length or filter a longer signal.\n"
     ]
    },
    {
     "name": "stderr",
     "output_type": "stream",
     "text": [
      "<ipython-input-5-cbb95587c355>:3: RuntimeWarning: filter_length (16501) is longer than the signal (301), distortion is likely. Reduce filter length or filter a longer signal.\n",
      "  epoch.filter(l_freq = l_freq, h_freq = h_freq)\n"
     ]
    },
    {
     "name": "stdout",
     "output_type": "stream",
     "text": [
      "Setting up band-pass filter from 0.1 - 20 Hz\n",
      "l_trans_bandwidth chosen to be 0.1 Hz\n",
      "h_trans_bandwidth chosen to be 5.0 Hz\n",
      "Filter length of 16501 samples (33.002 sec) selected\n",
      "filter_length (16501) is longer than the signal (301), distortion is likely. Reduce filter length or filter a longer signal.\n"
     ]
    },
    {
     "name": "stderr",
     "output_type": "stream",
     "text": [
      "<ipython-input-5-cbb95587c355>:3: RuntimeWarning: filter_length (16501) is longer than the signal (301), distortion is likely. Reduce filter length or filter a longer signal.\n",
      "  epoch.filter(l_freq = l_freq, h_freq = h_freq)\n"
     ]
    },
    {
     "name": "stdout",
     "output_type": "stream",
     "text": [
      "Setting up band-pass filter from 0.1 - 20 Hz\n",
      "l_trans_bandwidth chosen to be 0.1 Hz\n",
      "h_trans_bandwidth chosen to be 5.0 Hz\n",
      "Filter length of 16501 samples (33.002 sec) selected\n",
      "filter_length (16501) is longer than the signal (301), distortion is likely. Reduce filter length or filter a longer signal.\n"
     ]
    },
    {
     "name": "stderr",
     "output_type": "stream",
     "text": [
      "<ipython-input-5-cbb95587c355>:3: RuntimeWarning: filter_length (16501) is longer than the signal (301), distortion is likely. Reduce filter length or filter a longer signal.\n",
      "  epoch.filter(l_freq = l_freq, h_freq = h_freq)\n"
     ]
    },
    {
     "name": "stdout",
     "output_type": "stream",
     "text": [
      "TEST PERSON  3\n",
      "(640, 60, 301) (640,)\n",
      "(162, 60, 301) (162,)\n",
      "Performance Trainset BestOption:  ('gridsearchcv', GridSearchCV(cv=None, error_score='raise',\n",
      "       estimator=SVC(C=1.0, cache_size=200, class_weight=None, coef0=0.0,\n",
      "  decision_function_shape='ovr', degree=3, gamma='auto', kernel='rbf',\n",
      "  max_iter=-1, probability=False, random_state=None, shrinking=True,\n",
      "  tol=0.001, verbose=False),\n",
      "       fit_params=None, iid=True, n_jobs=1,\n",
      "       param_grid={'kernel': ('poly', 'rbf')}, pre_dispatch='2*n_jobs',\n",
      "       refit=True, return_train_score='warn', scoring=None, verbose=0))\n",
      "Score on Trainset:  0.86875\n",
      "Score on Testset:  0.8209876543209876\n",
      "Setting up band-pass filter from 0.1 - 20 Hz\n",
      "l_trans_bandwidth chosen to be 0.1 Hz\n",
      "h_trans_bandwidth chosen to be 5.0 Hz\n",
      "Filter length of 16501 samples (33.002 sec) selected\n",
      "filter_length (16501) is longer than the signal (301), distortion is likely. Reduce filter length or filter a longer signal.\n"
     ]
    },
    {
     "name": "stderr",
     "output_type": "stream",
     "text": [
      "<ipython-input-5-cbb95587c355>:3: RuntimeWarning: filter_length (16501) is longer than the signal (301), distortion is likely. Reduce filter length or filter a longer signal.\n",
      "  epoch.filter(l_freq = l_freq, h_freq = h_freq)\n"
     ]
    },
    {
     "name": "stdout",
     "output_type": "stream",
     "text": [
      "Setting up band-pass filter from 0.1 - 20 Hz\n",
      "l_trans_bandwidth chosen to be 0.1 Hz\n",
      "h_trans_bandwidth chosen to be 5.0 Hz\n",
      "Filter length of 16501 samples (33.002 sec) selected\n",
      "filter_length (16501) is longer than the signal (301), distortion is likely. Reduce filter length or filter a longer signal.\n"
     ]
    },
    {
     "name": "stderr",
     "output_type": "stream",
     "text": [
      "<ipython-input-5-cbb95587c355>:3: RuntimeWarning: filter_length (16501) is longer than the signal (301), distortion is likely. Reduce filter length or filter a longer signal.\n",
      "  epoch.filter(l_freq = l_freq, h_freq = h_freq)\n"
     ]
    },
    {
     "name": "stdout",
     "output_type": "stream",
     "text": [
      "Setting up band-pass filter from 0.1 - 20 Hz\n",
      "l_trans_bandwidth chosen to be 0.1 Hz\n",
      "h_trans_bandwidth chosen to be 5.0 Hz\n",
      "Filter length of 16501 samples (33.002 sec) selected\n",
      "filter_length (16501) is longer than the signal (301), distortion is likely. Reduce filter length or filter a longer signal.\n"
     ]
    },
    {
     "name": "stderr",
     "output_type": "stream",
     "text": [
      "<ipython-input-5-cbb95587c355>:3: RuntimeWarning: filter_length (16501) is longer than the signal (301), distortion is likely. Reduce filter length or filter a longer signal.\n",
      "  epoch.filter(l_freq = l_freq, h_freq = h_freq)\n"
     ]
    },
    {
     "name": "stdout",
     "output_type": "stream",
     "text": [
      "Setting up band-pass filter from 0.1 - 20 Hz\n",
      "l_trans_bandwidth chosen to be 0.1 Hz\n",
      "h_trans_bandwidth chosen to be 5.0 Hz\n",
      "Filter length of 16501 samples (33.002 sec) selected\n",
      "filter_length (16501) is longer than the signal (301), distortion is likely. Reduce filter length or filter a longer signal.\n"
     ]
    },
    {
     "name": "stderr",
     "output_type": "stream",
     "text": [
      "<ipython-input-5-cbb95587c355>:3: RuntimeWarning: filter_length (16501) is longer than the signal (301), distortion is likely. Reduce filter length or filter a longer signal.\n",
      "  epoch.filter(l_freq = l_freq, h_freq = h_freq)\n"
     ]
    },
    {
     "name": "stdout",
     "output_type": "stream",
     "text": [
      "Setting up band-pass filter from 0.1 - 20 Hz\n",
      "l_trans_bandwidth chosen to be 0.1 Hz\n",
      "h_trans_bandwidth chosen to be 5.0 Hz\n",
      "Filter length of 16501 samples (33.002 sec) selected\n",
      "filter_length (16501) is longer than the signal (301), distortion is likely. Reduce filter length or filter a longer signal.\n"
     ]
    },
    {
     "name": "stderr",
     "output_type": "stream",
     "text": [
      "<ipython-input-5-cbb95587c355>:3: RuntimeWarning: filter_length (16501) is longer than the signal (301), distortion is likely. Reduce filter length or filter a longer signal.\n",
      "  epoch.filter(l_freq = l_freq, h_freq = h_freq)\n"
     ]
    },
    {
     "name": "stdout",
     "output_type": "stream",
     "text": [
      "TEST PERSON  4\n",
      "(642, 60, 301) (642,)\n",
      "(160, 60, 301) (160,)\n",
      "Performance Trainset BestOption:  ('gridsearchcv', GridSearchCV(cv=None, error_score='raise',\n",
      "       estimator=SVC(C=1.0, cache_size=200, class_weight=None, coef0=0.0,\n",
      "  decision_function_shape='ovr', degree=3, gamma='auto', kernel='rbf',\n",
      "  max_iter=-1, probability=False, random_state=None, shrinking=True,\n",
      "  tol=0.001, verbose=False),\n",
      "       fit_params=None, iid=True, n_jobs=1,\n",
      "       param_grid={'kernel': ('poly', 'rbf')}, pre_dispatch='2*n_jobs',\n",
      "       refit=True, return_train_score='warn', scoring=None, verbose=0))\n",
      "Score on Trainset:  0.8738317757009346\n",
      "Score on Testset:  0.8125\n"
     ]
    }
   ],
   "source": [
    "score_people=[]\n",
    "for i in range(0,5):\n",
    "    score = sweep_test_person(i, l_freq= good_l_freq, h_freq=good_h_freq)\n",
    "    score_people.append(score)"
   ]
  },
  {
   "cell_type": "markdown",
   "metadata": {},
   "source": [
    "## Plot"
   ]
  },
  {
   "cell_type": "code",
   "execution_count": 14,
   "metadata": {},
   "outputs": [],
   "source": [
    "from matplotlib import pyplot as plt\n",
    "%matplotlib tk\n",
    "plt.bar(np.arange(0,5), score_people, label='BEST_Classifier (one and only), l_freq='+str(good_l_freq)+'h_freq='+str(good_h_freq))\n",
    "plt.ylim(0.75, 0.85)\n",
    "plt.legend()\n",
    "plt.xlabel(\"Who is the test person?\")\n",
    "plt.ylabel(\"Score on the given test person\")\n",
    "plt.show()"
   ]
  },
  {
   "cell_type": "code",
   "execution_count": null,
   "metadata": {},
   "outputs": [],
   "source": [
    "\n",
    "    \n",
    "    "
   ]
  },
  {
   "cell_type": "code",
   "execution_count": null,
   "metadata": {},
   "outputs": [],
   "source": []
  }
 ],
 "metadata": {
  "kernelspec": {
   "display_name": "Python 3",
   "language": "python",
   "name": "python3"
  },
  "language_info": {
   "codemirror_mode": {
    "name": "ipython",
    "version": 3
   },
   "file_extension": ".py",
   "mimetype": "text/x-python",
   "name": "python",
   "nbconvert_exporter": "python",
   "pygments_lexer": "ipython3",
   "version": "3.6.5"
  },
  "latex_envs": {
   "LaTeX_envs_menu_present": true,
   "autoclose": false,
   "autocomplete": true,
   "bibliofile": "biblio.bib",
   "cite_by": "apalike",
   "current_citInitial": 1,
   "eqLabelWithNumbers": true,
   "eqNumInitial": 1,
   "hotkeys": {
    "equation": "Ctrl-E",
    "itemize": "Ctrl-I"
   },
   "labels_anchors": false,
   "latex_user_defs": false,
   "report_style_numbering": false,
   "user_envs_cfg": false
  },
  "toc": {
   "base_numbering": 1,
   "nav_menu": {},
   "number_sections": true,
   "sideBar": true,
   "skip_h1_title": false,
   "title_cell": "Table of Contents",
   "title_sidebar": "Contents",
   "toc_cell": false,
   "toc_position": {},
   "toc_section_display": true,
   "toc_window_display": false
  },
  "varInspector": {
   "cols": {
    "lenName": 16,
    "lenType": 16,
    "lenVar": 40
   },
   "kernels_config": {
    "python": {
     "delete_cmd_postfix": "",
     "delete_cmd_prefix": "del ",
     "library": "var_list.py",
     "varRefreshCmd": "print(var_dic_list())"
    },
    "r": {
     "delete_cmd_postfix": ") ",
     "delete_cmd_prefix": "rm(",
     "library": "var_list.r",
     "varRefreshCmd": "cat(var_dic_list()) "
    }
   },
   "types_to_exclude": [
    "module",
    "function",
    "builtin_function_or_method",
    "instance",
    "_Feature"
   ],
   "window_display": false
  }
 },
 "nbformat": 4,
 "nbformat_minor": 2
}
